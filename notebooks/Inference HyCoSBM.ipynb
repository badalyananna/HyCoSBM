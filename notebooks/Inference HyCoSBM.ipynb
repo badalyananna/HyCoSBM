{
 "cells": [
  {
   "cell_type": "code",
   "execution_count": 10,
   "metadata": {},
   "outputs": [],
   "source": [
    "import sys\n",
    "\n",
    "import numpy as np\n",
    "import matplotlib.pyplot as plt\n",
    "\n",
    "sys.path.append(\"..\")\n",
    "from src.model.HyCoSBM import HyCoSBM\n",
    "from src.data.data_io import load_data, load_attributes\n"
   ]
  },
  {
   "cell_type": "markdown",
   "metadata": {},
   "source": [
    "# Training the HyCoSBM model\n",
    "In this notebook we show how to use HyCoSBM model."
   ]
  },
  {
   "cell_type": "markdown",
   "metadata": {},
   "source": [
    "## Load the dataset"
   ]
  },
  {
   "cell_type": "markdown",
   "metadata": {},
   "source": [
    "An example dataset with preprocessed attributes is available in `data/examples` folder.\n",
    "\n",
    "`load_data` function can be used to load the hypergraph. In our experiments we preprocessed hypergraphs to be represented as two *.txt* files containing the hyperedge list and weight list respectively. \n",
    "\n",
    "`load_attributes` function can be used to load attributes. It requires a path to a csv file containing attributes and a list of attributes which should correspond to the desired columns of the csv file.\n",
    "\n",
    "The following lines of code load the `high-school` dataset and the attributes `class` and `sex`.\n",
    "\n",
    "```python\n",
    "load_data(\n",
    "    hye_file=\"../data/examples/high_school_dataset/hyperedges.txt\",\n",
    "    weight_file=\"../data/examples/high_school_dataset/weights.txt\",\n",
    ")\n",
    "\n",
    "load_attributes(\n",
    "    file_path=\"../data/examples/high_school_dataset/attributes.csv\",\n",
    "    attributes=['class', 'sex']\n",
    ")\n",
    "```"
   ]
  },
  {
   "cell_type": "code",
   "execution_count": 2,
   "metadata": {},
   "outputs": [],
   "source": [
    "dataset = 'high_school'\n",
    "attributes = ['class', 'sex']\n",
    "\n",
    "hypergraph = load_data(\n",
    "    hye_file=f\"../data/examples/{dataset}_dataset/hyperedges.txt\",\n",
    "    weight_file=f\"../data/examples/{dataset}_dataset/weights.txt\",\n",
    ")\n",
    "\n",
    "X_attributes = load_attributes(\n",
    "    file_path=f\"../data/examples/{dataset}_dataset/attributes.csv\",\n",
    "    attributes=attributes\n",
    ")"
   ]
  },
  {
   "cell_type": "markdown",
   "metadata": {},
   "source": [
    "Alternatively, one can use *.pkl* file that represents a Hypergraph instance as follows\n",
    "\n",
    "```python\n",
    "load_data(\n",
    "    pickle_file=\"../data/examples/high_school_dataset/hypergraph.pkl\",\n",
    ")\n",
    "```"
   ]
  },
  {
   "cell_type": "code",
   "execution_count": 3,
   "metadata": {},
   "outputs": [],
   "source": [
    "hypergraph = load_data(\n",
    "    pickle_file=f\"../data/examples/{dataset}_dataset/hypergraph.pkl\",\n",
    ")"
   ]
  },
  {
   "cell_type": "markdown",
   "metadata": {},
   "source": [
    "## Model training\n",
    "\n",
    "To train the model we need to specify the number of communities $K$ and a balancing parameter $\\gamma$. We can also specify if the model should presume assortative structure of the network.\n",
    "If we want to use attributes we need to pass the `X_attributes` variable into the `fit` methods. Otherwise, the value of $\\gamma$ is set to 0."
   ]
  },
  {
   "cell_type": "code",
   "execution_count": 4,
   "metadata": {},
   "outputs": [
    {
     "name": "stdout",
     "output_type": "stream",
     "text": [
      "Wall time: 157 ms\n"
     ]
    }
   ],
   "source": [
    "%%time \n",
    "\n",
    "model = HyCoSBM(\n",
    "    K = 11,\n",
    "    gamma=0.7,\n",
    "    assortative=True,\n",
    ")\n",
    "model.fit(hypergraph, X_attributes)"
   ]
  },
  {
   "cell_type": "markdown",
   "metadata": {},
   "source": [
    "We can visualize the inferred parameters $u$, $w$ and $\\beta$ using `plt.matshow` function."
   ]
  },
  {
   "cell_type": "code",
   "execution_count": 5,
   "metadata": {},
   "outputs": [
    {
     "data": {
      "image/png": "[encoded data removed]",
      "text/plain": [
       "<Figure size 144x360 with 1 Axes>"
      ]
     },
     "metadata": {
      "needs_background": "light"
     },
     "output_type": "display_data"
    }
   ],
   "source": [
    "plt.figure(figsize=(2, 5))\n",
    "plt.matshow(model.u, aspect='auto', cmap='Blues', fignum=1);"
   ]
  },
  {
   "cell_type": "code",
   "execution_count": 6,
   "metadata": {},
   "outputs": [
    {
     "data": {
      "image/png": "[encoded data removed]",
      "text/plain": [
       "<Figure size 216x216 with 1 Axes>"
      ]
     },
     "metadata": {
      "needs_background": "light"
     },
     "output_type": "display_data"
    }
   ],
   "source": [
    "plt.figure(figsize=(3, 3))\n",
    "plt.matshow(model.w, aspect='auto', cmap='Blues', fignum=1);"
   ]
  },
  {
   "cell_type": "code",
   "execution_count": 7,
   "metadata": {},
   "outputs": [
    {
     "data": {
      "image/png": "[encoded data removed]",
      "text/plain": [
       "<Figure size 216x216 with 1 Axes>"
      ]
     },
     "metadata": {
      "needs_background": "light"
     },
     "output_type": "display_data"
    }
   ],
   "source": [
    "plt.figure(figsize=(3, 3))\n",
    "plt.matshow(model.beta, aspect='auto', cmap='Blues', fignum=1);"
   ]
  },
  {
   "cell_type": "markdown",
   "metadata": {},
   "source": [
    "Other training options are the same as HyMMSBM. Similarly to being able to fix $u$ and $w$ parameters, we can also fix $\\beta$ by prividing it in the input. We should make sure that the shape of $\\beta$ is `(K, Z)`, where Z is the number of attributes used."
   ]
  },
  {
   "cell_type": "code",
   "execution_count": 12,
   "metadata": {},
   "outputs": [
    {
     "name": "stdout",
     "output_type": "stream",
     "text": [
      "Wall time: 146 ms\n"
     ]
    }
   ],
   "source": [
    "%%time \n",
    "K = 12\n",
    "Z = X_attributes.shape[1]\n",
    "\n",
    "fixed_beta=np.eye(K, Z)\n",
    "\n",
    "model = HyCoSBM(\n",
    "    K = K,\n",
    "    gamma=0.7,\n",
    "    assortative=True,\n",
    "    beta=fixed_beta,\n",
    ")\n",
    "model.fit(hypergraph, X_attributes)"
   ]
  },
  {
   "cell_type": "code",
   "execution_count": 13,
   "metadata": {},
   "outputs": [
    {
     "data": {
      "image/png": "[encoded data removed]",
      "text/plain": [
       "<Figure size 216x216 with 1 Axes>"
      ]
     },
     "metadata": {
      "needs_background": "light"
     },
     "output_type": "display_data"
    }
   ],
   "source": [
    "plt.figure(figsize=(3, 3))\n",
    "plt.matshow(model.beta, aspect='auto', cmap='Blues', fignum=1);"
   ]
  },
  {
   "cell_type": "code",
   "execution_count": 14,
   "metadata": {},
   "outputs": [
    {
     "data": {
      "image/png": "[encoded data removed]",
      "text/plain": [
       "<Figure size 144x360 with 1 Axes>"
      ]
     },
     "metadata": {
      "needs_background": "light"
     },
     "output_type": "display_data"
    }
   ],
   "source": [
    "plt.figure(figsize=(2, 5))\n",
    "plt.matshow(model.u, aspect='auto', cmap='Blues', fignum=1);"
   ]
  }
 ],
 "metadata": {
  "kernelspec": {
   "display_name": "Python 3",
   "language": "python",
   "name": "python3"
  },
  "language_info": {
   "codemirror_mode": {
    "name": "ipython",
    "version": 3
   },
   "file_extension": ".py",
   "mimetype": "text/x-python",
   "name": "python",
   "nbconvert_exporter": "python",
   "pygments_lexer": "ipython3",
   "version": "3.8.10"
  },
  "orig_nbformat": 4
 },
 "nbformat": 4,
 "nbformat_minor": 2
}
